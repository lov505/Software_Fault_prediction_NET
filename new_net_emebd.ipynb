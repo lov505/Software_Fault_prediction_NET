{
  "nbformat": 4,
  "nbformat_minor": 0,
  "metadata": {
    "colab": {
      "provenance": []
    },
    "kernelspec": {
      "name": "python3",
      "display_name": "Python 3"
    },
    "language_info": {
      "name": "python"
    }
  },
  "cells": [
    {
      "cell_type": "code",
      "execution_count": null,
      "metadata": {
        "id": "VMvpkWqojdYa"
      },
      "outputs": [],
      "source": [
        "import networkx as nx\n",
        "from math import *"
      ]
    },
    {
      "cell_type": "code",
      "source": [
        "!python Driver.py"
      ],
      "metadata": {
        "colab": {
          "base_uri": "https://localhost:8080/"
        },
        "id": "U8VKXB6kj7iK",
        "outputId": "4e86ef15-a167-4512-a799-2f2c7654369a"
      },
      "execution_count": null,
      "outputs": [
        {
          "output_type": "stream",
          "name": "stdout",
          "text": [
            "Number of Nodes:494\n",
            "Number of Edges:1558\n"
          ]
        }
      ]
    },
    {
      "cell_type": "code",
      "source": [
        "!python embed.py 128"
      ],
      "metadata": {
        "colab": {
          "base_uri": "https://localhost:8080/"
        },
        "id": "xHwP_jpcka2v",
        "outputId": "78ae31d5-be41-4b2a-8ab2-a858e7c23426"
      },
      "execution_count": null,
      "outputs": [
        {
          "output_type": "stream",
          "name": "stdout",
          "text": [
            "/usr/bin/python3: No module named openne\n",
            "python -m openne --method node2vec --input Ant/edgelist --graph-format edgelist --output emb128/Ant/ant-node2vec.emd --representation-size 128\n",
            "/usr/bin/python3: No module named openne\n",
            "python -m openne --method deepWalk --input Ant/edgelist --graph-format edgelist --output emb128/Ant/ant-deepwalk.emd --representation-size 128\n",
            "/usr/bin/python3: No module named openne\n",
            "python -m openne --method line --input Ant/edgelist --graph-format edgelist --output emb128/Ant/ant-line.emd --representation-size 128\n",
            "/usr/bin/python3: No module named openne\n",
            "python -m openne --method grarep --input Ant/edgelist --graph-format edgelist --output emb128/Ant/ant-grarep.emd --representation-size 128\n",
            "/usr/bin/python3: No module named openne\n",
            "python -m openne --method hope --input Ant/edgelist --graph-format edgelist --output emb128/Ant/ant-hope.emd --representation-size 128\n",
            "python proNE.py -graph Ant/edgelist -emb1 emb128/Ant/ant-prone-sparse.emd -emb2 emb128/Ant/ant-prone-spectral.emd -dimension 128 -step 10 -theta 0.5 -mu 0.2\n",
            "(494, 494)\n",
            "neg 0.017867565155029297\n",
            "svd sparse 0.01209657591502893\n",
            "sparsesvd time 0.0836334228515625\n",
            "Chebyshev Series -----------------\n",
            "Bessell time 2 0.017145395278930664\n",
            "Bessell time 3 0.018758058547973633\n",
            "Bessell time 4 0.019939661026000977\n",
            "Bessell time 5 0.023591041564941406\n",
            "Bessell time 6 0.02485060691833496\n",
            "Bessell time 7 0.026002168655395508\n",
            "Bessell time 8 0.027076005935668945\n",
            "Bessell time 9 0.03288531303405762\n",
            "densesvd time 0.02291703224182129\n",
            "--- 494\n",
            "total time 0.18346261978149414\n",
            "sparse NE time 0.10204148292541504\n",
            "spectral Pro time 0.056650638580322266\n",
            "save embedding done\n"
          ]
        }
      ]
    },
    {
      "cell_type": "code",
      "source": [
        "python proNE.py -graph Ant/edgelist -emb1 emb128/Ant/ant-prone-sparse.emd -emb2 emb128/Ant/ant-prone-spectral.emd -dimension 128 -step 10 -theta 0.5 -mu 0.2"
      ],
      "metadata": {
        "id": "hm_hpBfRk1_n",
        "outputId": "35e9f212-c8ef-485b-bbf0-829eb02f8973",
        "colab": {
          "base_uri": "https://localhost:8080/"
        }
      },
      "execution_count": null,
      "outputs": [
        {
          "output_type": "error",
          "ename": "SyntaxError",
          "evalue": "ignored",
          "traceback": [
            "\u001b[0;36m  File \u001b[0;32m\"<ipython-input-5-7f9f5b8b3d30>\"\u001b[0;36m, line \u001b[0;32m1\u001b[0m\n\u001b[0;31m    python proNE.py -graph Ant/edgelist -emb1 emb128/Ant/ant-prone-sparse.emd -emb2 emb128/Ant/ant-prone-spectral.emd -dimension 128 -step 10 -theta 0.5 -mu 0.2\u001b[0m\n\u001b[0m           ^\u001b[0m\n\u001b[0;31mSyntaxError\u001b[0m\u001b[0;31m:\u001b[0m invalid syntax\n"
          ]
        }
      ]
    }
  ]
}